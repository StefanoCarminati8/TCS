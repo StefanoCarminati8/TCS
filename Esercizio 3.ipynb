{
 "cells": [
  {
   "cell_type": "code",
   "execution_count": 1,
   "id": "94dc277c",
   "metadata": {},
   "outputs": [
    {
     "name": "stdout",
     "output_type": "stream",
     "text": [
      "F(3) = 2\n",
      "F(4) = 3\n",
      "F(5) = 5\n",
      "F(6) = 8\n",
      "F(7) = 13\n",
      "F(8) = 21\n",
      "F(9) = 34\n",
      "F(10) = 55\n",
      "F(11) = 89\n",
      "F(12) = 144\n",
      "F(13) = 233\n",
      "F(14) = 377\n",
      "F(15) = 610\n",
      "F(16) = 987\n",
      "F(17) = 1597\n",
      "F(18) = 2584\n",
      "F(19) = 4181\n",
      "F(20) = 6765\n",
      "F(21) = 10946\n",
      "F(22) = 17711\n",
      "F(23) = 28657\n",
      "F(24) = 46368\n",
      "F(25) = 75025\n",
      "F(26) = 121393\n",
      "F(27) = 196418\n",
      "F(28) = 317811\n",
      "F(29) = 514229\n",
      "F(30) = 832040\n",
      "F(31) = 1346269\n",
      "F(32) = 2178309\n",
      "F(33) = 3524578\n",
      "F(34) = 5702887\n",
      "F(35) = 9227465\n",
      "F(36) = 14930352\n",
      "F(37) = 24157817\n",
      "F(38) = 39088169\n",
      "F(39) = 63245986\n",
      "F(40) = 102334155\n",
      "F(41) = 165580141\n",
      "F(42) = 267914296\n",
      "F(43) = 433494437\n",
      "F(44) = 701408733\n",
      "F(45) = 1134903170\n",
      "F(46) = 1836311903\n",
      "F(47) = 2971215073\n",
      "F(48) = 4807526976\n"
     ]
    }
   ],
   "source": [
    "#creo il loop ed eseguo il calcolo\n",
    "a = 1\n",
    "b = 1\n",
    "target = 48\n",
    "\n",
    "for n in range(3, target+1):\n",
    "    fib = a + b\n",
    "    print(\"F({0}) = {1}\".format(n, fib))\n",
    "    a = b\n",
    "    b = fib\n",
    "    "
   ]
  },
  {
   "cell_type": "code",
   "execution_count": null,
   "id": "6a2f3d57",
   "metadata": {},
   "outputs": [],
   "source": []
  }
 ],
 "metadata": {
  "kernelspec": {
   "display_name": "Python 3 (ipykernel)",
   "language": "python",
   "name": "python3"
  },
  "language_info": {
   "codemirror_mode": {
    "name": "ipython",
    "version": 3
   },
   "file_extension": ".py",
   "mimetype": "text/x-python",
   "name": "python",
   "nbconvert_exporter": "python",
   "pygments_lexer": "ipython3",
   "version": "3.10.9"
  }
 },
 "nbformat": 4,
 "nbformat_minor": 5
}
