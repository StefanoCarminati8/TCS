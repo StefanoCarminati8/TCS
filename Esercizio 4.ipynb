{
 "cells": [
  {
   "cell_type": "code",
   "execution_count": 1,
   "id": "1540fdcd",
   "metadata": {},
   "outputs": [
    {
     "name": "stdout",
     "output_type": "stream",
     "text": [
      "[0, 1, 2, 3, 4, 5, 6, 7, 8, 9, 10, 11, 12, 13, 14, 15]\n"
     ]
    }
   ],
   "source": [
    "#creo il vettore e lo stampo\n",
    "v = []\n",
    "for i in range(16):\n",
    "    v.append(i)\n",
    "print(v)"
   ]
  },
  {
   "cell_type": "code",
   "execution_count": 2,
   "id": "5c1f4280",
   "metadata": {},
   "outputs": [
    {
     "name": "stdout",
     "output_type": "stream",
     "text": [
      "[1.5, 2.7, 3.14]\n"
     ]
    }
   ],
   "source": [
    "#creo il vettore e lo stampo\n",
    "lista = []  \n",
    "lista.append(1.5)  \n",
    "lista.append(2.7)  \n",
    "lista.append(3.14) \n",
    "print(lista)"
   ]
  },
  {
   "cell_type": "code",
   "execution_count": 3,
   "id": "16ea62e0",
   "metadata": {},
   "outputs": [
    {
     "name": "stdout",
     "output_type": "stream",
     "text": [
      "[10, 25, 5]\n"
     ]
    }
   ],
   "source": [
    "#creo il vettore e lo stampo\n",
    "my_dict = {\n",
    "    'name': 'neuralnet',\n",
    "    'loss': 0.12,\n",
    "    'weights': [10, 25, 5]\n",
    "}\n",
    "\n",
    "print(my_dict['weights'])  \n",
    "\n",
    "my_dict['loss'] = 10  "
   ]
  },
  {
   "cell_type": "code",
   "execution_count": 4,
   "id": "a280738a",
   "metadata": {},
   "outputs": [
    {
     "name": "stdout",
     "output_type": "stream",
     "text": [
      "la media è: 4.857142857142857\n"
     ]
    }
   ],
   "source": [
    "#creo il vettore, creo la funzione per il calcolodella media e stampo il risultato\n",
    "numeri = [2, 6, 3, 8, 9, 11, -5]\n",
    "conteggio = len(numeri)\n",
    "totale = 0\n",
    "for num in numeri:\n",
    "    totale += num\n",
    "media = totale / conteggio\n",
    "print(\"la media è:\", media)"
   ]
  },
  {
   "cell_type": "code",
   "execution_count": 5,
   "id": "63fc66d9",
   "metadata": {},
   "outputs": [
    {
     "name": "stdout",
     "output_type": "stream",
     "text": [
      "[1, 2, 4, 8, 16, 32, 64, 128, 256, 512]\n"
     ]
    }
   ],
   "source": [
    "#creo un vettore da riempire con la funzione scelta\n",
    "lista = [2 ** n for n in range(10)]\n",
    "print(lista)"
   ]
  },
  {
   "cell_type": "code",
   "execution_count": null,
   "id": "07ed72b6",
   "metadata": {},
   "outputs": [],
   "source": []
  }
 ],
 "metadata": {
  "kernelspec": {
   "display_name": "Python 3 (ipykernel)",
   "language": "python",
   "name": "python3"
  },
  "language_info": {
   "codemirror_mode": {
    "name": "ipython",
    "version": 3
   },
   "file_extension": ".py",
   "mimetype": "text/x-python",
   "name": "python",
   "nbconvert_exporter": "python",
   "pygments_lexer": "ipython3",
   "version": "3.10.9"
  }
 },
 "nbformat": 4,
 "nbformat_minor": 5
}
