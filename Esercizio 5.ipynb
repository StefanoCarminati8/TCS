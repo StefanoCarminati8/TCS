{
 "cells": [
  {
   "cell_type": "code",
   "execution_count": 1,
   "id": "5cde135f",
   "metadata": {},
   "outputs": [],
   "source": [
    "#creo funzione per il calcolo della media\n",
    "def calcola_media(numeri):\n",
    "    totale = sum(numeri)\n",
    "    conteggio = len(numeri)\n",
    "    if conteggio == 0:\n",
    "        return 0  \n",
    "    else:\n",
    "        return totale / conteggio"
   ]
  },
  {
   "cell_type": "code",
   "execution_count": 3,
   "id": "8b7f2602",
   "metadata": {},
   "outputs": [
    {
     "name": "stdout",
     "output_type": "stream",
     "text": [
      "la media è: 4.857142857142857\n"
     ]
    }
   ],
   "source": [
    "#testo la funzione\n",
    "v = [2, 6, 3, 8, 9, 11, -5]\n",
    "avg = calcola_media(v)\n",
    "print(\"la media è:\", avg)"
   ]
  },
  {
   "cell_type": "code",
   "execution_count": 4,
   "id": "44e773a1",
   "metadata": {},
   "outputs": [],
   "source": [
    "#reo la funzione per il calcolo del fattoriale\n",
    "def fattoriale(x):\n",
    "    if x == 0:\n",
    "        return 1\n",
    "    else:\n",
    "        return x * fattoriale(x - 1)"
   ]
  },
  {
   "cell_type": "code",
   "execution_count": 5,
   "id": "d4d29da4",
   "metadata": {},
   "outputs": [
    {
     "name": "stdout",
     "output_type": "stream",
     "text": [
      "24\n"
     ]
    }
   ],
   "source": [
    "#testo la funzione\n",
    "prova = fattoriale(4)\n",
    "print(prova)"
   ]
  },
  {
   "cell_type": "code",
   "execution_count": null,
   "id": "0f7f6fd7",
   "metadata": {},
   "outputs": [],
   "source": []
  }
 ],
 "metadata": {
  "kernelspec": {
   "display_name": "Python 3 (ipykernel)",
   "language": "python",
   "name": "python3"
  },
  "language_info": {
   "codemirror_mode": {
    "name": "ipython",
    "version": 3
   },
   "file_extension": ".py",
   "mimetype": "text/x-python",
   "name": "python",
   "nbconvert_exporter": "python",
   "pygments_lexer": "ipython3",
   "version": "3.10.9"
  }
 },
 "nbformat": 4,
 "nbformat_minor": 5
}
