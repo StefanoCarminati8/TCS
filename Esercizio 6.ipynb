{
 "cells": [
  {
   "cell_type": "code",
   "execution_count": 1,
   "id": "49cd864a",
   "metadata": {},
   "outputs": [],
   "source": [
    "#creo le classi variabile e distribuzione normale\n",
    "import numpy as np\n",
    "\n",
    "class Variabile:\n",
    "    def __init__(self, name):\n",
    "        self.name = name\n",
    "\n",
    "    def sample(self, size):\n",
    "        raise NotImplementedError()\n",
    "\n",
    "class Normal(Variabile):\n",
    "    def __init__(self, name, mu=0, sigma=1):\n",
    "        super().__init__(name)\n",
    "        self.mu = mu\n",
    "        self.sigma = sigma\n",
    "\n",
    "    def sample(self, size):\n",
    "        return list(np.random.normal(loc=self.mu, scale=self.sigma, size=size))"
   ]
  },
  {
   "cell_type": "code",
   "execution_count": 2,
   "id": "9a2bd192",
   "metadata": {},
   "outputs": [
    {
     "name": "stdout",
     "output_type": "stream",
     "text": [
      "[-1.0643062430355164, 3.8505878526693884, 5.728409223792269, 6.095236547259388, 2.5921764394156703]\n"
     ]
    }
   ],
   "source": [
    "#creo una distribuzione con i parametri scelti e stampo i risultati dei valori di interesse\n",
    "my_normal = Normal('my_normal', mu=2, sigma=3)\n",
    "samples = my_normal.sample(5)\n",
    "print(samples)"
   ]
  },
  {
   "cell_type": "code",
   "execution_count": null,
   "id": "d97f8467",
   "metadata": {},
   "outputs": [],
   "source": []
  }
 ],
 "metadata": {
  "kernelspec": {
   "display_name": "Python 3 (ipykernel)",
   "language": "python",
   "name": "python3"
  },
  "language_info": {
   "codemirror_mode": {
    "name": "ipython",
    "version": 3
   },
   "file_extension": ".py",
   "mimetype": "text/x-python",
   "name": "python",
   "nbconvert_exporter": "python",
   "pygments_lexer": "ipython3",
   "version": "3.10.9"
  }
 },
 "nbformat": 4,
 "nbformat_minor": 5
}
