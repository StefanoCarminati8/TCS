{
 "cells": [
  {
   "cell_type": "code",
   "execution_count": 4,
   "id": "4040b189",
   "metadata": {},
   "outputs": [],
   "source": [
    "#creo classe polinomiale con le funzioni così definite\n",
    "class PolynomialModel:\n",
    "    def __init__(self, degree):\n",
    "        self.degree = degree\n",
    "        self.parameters = [0] * (degree + 1)\n",
    "\n",
    "    def set_parameters(self, parameters):\n",
    "        self.parameters = parameters\n",
    "\n",
    "    def get_parameters(self):\n",
    "        return self.parameters\n",
    "\n",
    "    def execute(self, x):\n",
    "        result = 0\n",
    "        for i in range(self.degree + 1):\n",
    "            result += self.parameters[i] * (x ** i)\n",
    "        return result"
   ]
  },
  {
   "cell_type": "code",
   "execution_count": 5,
   "id": "e0a57c15",
   "metadata": {},
   "outputs": [],
   "source": [
    "#creo una polinomiale con i parametri scelti da me\n",
    "my_poly = PolynomialModel(3)"
   ]
  },
  {
   "cell_type": "code",
   "execution_count": 6,
   "id": "2da17461",
   "metadata": {},
   "outputs": [],
   "source": [
    "my_poly.set_parameters([2, 1, 0, -3])"
   ]
  },
  {
   "cell_type": "code",
   "execution_count": 7,
   "id": "d8a2b3b2",
   "metadata": {},
   "outputs": [
    {
     "name": "stdout",
     "output_type": "stream",
     "text": [
      "-20\n"
     ]
    }
   ],
   "source": [
    "#stampo il risultato della funzione creata valutato in un punto\n",
    "result = my_poly.execute(2)\n",
    "print(result)"
   ]
  },
  {
   "cell_type": "code",
   "execution_count": null,
   "id": "38f99b7a",
   "metadata": {},
   "outputs": [],
   "source": []
  }
 ],
 "metadata": {
  "kernelspec": {
   "display_name": "Python 3 (ipykernel)",
   "language": "python",
   "name": "python3"
  },
  "language_info": {
   "codemirror_mode": {
    "name": "ipython",
    "version": 3
   },
   "file_extension": ".py",
   "mimetype": "text/x-python",
   "name": "python",
   "nbconvert_exporter": "python",
   "pygments_lexer": "ipython3",
   "version": "3.10.9"
  }
 },
 "nbformat": 4,
 "nbformat_minor": 5
}
