{
 "cells": [
  {
   "cell_type": "code",
   "execution_count": 2,
   "id": "34d871a4",
   "metadata": {},
   "outputs": [
    {
     "name": "stdout",
     "output_type": "stream",
     "text": [
      "a: (2, 2)\n",
      "Dimensione di a: 2\n",
      "b: (4,)\n",
      "b modificato: [ 0. -1.  0.  2.]\n"
     ]
    }
   ],
   "source": [
    "import numpy as np\n",
    "\n",
    "# alloca un array dalla lista [[0.5, -1], [-1, 2]] con dtype float32\n",
    "a = np.array([[0.5, -1], [-1, 2]], dtype=np.float32)\n",
    "\n",
    "# verifica forma e dimensione dell'array a\n",
    "print(\"a:\", a.shape)\n",
    "print(\"Dimensione di a:\", a.ndim)\n",
    "\n",
    "# crea una copia b usango un flatten shape\n",
    "b = np.ndarray.flatten(a).copy()\n",
    "print(\"b:\", b.shape)\n",
    "\n",
    "# assegna 0 agli elementi b di indice pari\n",
    "b[::2] = 0\n",
    "print(\"b modificato:\", b)"
   ]
  },
  {
   "cell_type": "code",
   "execution_count": null,
   "id": "9427a67d",
   "metadata": {},
   "outputs": [],
   "source": []
  }
 ],
 "metadata": {
  "kernelspec": {
   "display_name": "Python 3 (ipykernel)",
   "language": "python",
   "name": "python3"
  },
  "language_info": {
   "codemirror_mode": {
    "name": "ipython",
    "version": 3
   },
   "file_extension": ".py",
   "mimetype": "text/x-python",
   "name": "python",
   "nbconvert_exporter": "python",
   "pygments_lexer": "ipython3",
   "version": "3.10.9"
  }
 },
 "nbformat": 4,
 "nbformat_minor": 5
}
