{
 "cells": [
  {
   "cell_type": "code",
   "execution_count": 1,
   "id": "5afd502f",
   "metadata": {},
   "outputs": [
    {
     "name": "stdout",
     "output_type": "stream",
     "text": [
      "Tempo di esecuzione di python dot product:  1.8201684951782227\n",
      "Tempo di esecuzione di numpy dot product:  0.03625655174255371\n",
      "Sono uguali i risultati?:  False\n"
     ]
    }
   ],
   "source": [
    "import numpy as np\n",
    "import time\n",
    "\n",
    "# alloca un vettore e una matrice casuali\n",
    "N = 1000\n",
    "v = np.random.rand(N)\n",
    "A = np.random.rand(N, N)\n",
    "\n",
    "# dot product usando python primitives\n",
    "def dot_product(v, A):\n",
    "    result = np.zeros(N)\n",
    "    for i in range(N):\n",
    "        for j in range(N):\n",
    "            result[i] += v[j] * A[j][i]\n",
    "    return result\n",
    "\n",
    "# misuro il tempo di esecuzione di python \n",
    "start_time = time.time()\n",
    "result = dot_product(v, A)\n",
    "end_time = time.time()\n",
    "print(\"Tempo di esecuzione di python dot product: \", end_time - start_time)\n",
    "\n",
    "# misuro il tempo di esecuzione di numpy\n",
    "start_time = time.time()\n",
    "result_np = np.dot(A, v)\n",
    "end_time = time.time()\n",
    "print(\"Tempo di esecuzione di numpy dot product: \", end_time - start_time)\n",
    "\n",
    "# compare results\n",
    "print(\"Sono uguali i risultati?: \", np.allclose(result, result_np))"
   ]
  },
  {
   "cell_type": "code",
   "execution_count": null,
   "id": "093e9fc2",
   "metadata": {},
   "outputs": [],
   "source": []
  }
 ],
 "metadata": {
  "kernelspec": {
   "display_name": "Python 3 (ipykernel)",
   "language": "python",
   "name": "python3"
  },
  "language_info": {
   "codemirror_mode": {
    "name": "ipython",
    "version": 3
   },
   "file_extension": ".py",
   "mimetype": "text/x-python",
   "name": "python",
   "nbconvert_exporter": "python",
   "pygments_lexer": "ipython3",
   "version": "3.10.9"
  }
 },
 "nbformat": 4,
 "nbformat_minor": 5
}
